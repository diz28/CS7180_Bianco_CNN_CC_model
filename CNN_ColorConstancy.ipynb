{
 "cells": [
  {
   "cell_type": "markdown",
   "metadata": {},
   "source": [
    "# Bianco's CNN color constancy model recreated"
   ]
  },
  {
   "cell_type": "markdown",
   "metadata": {},
   "source": [
    "#### CS 7180 - Advanced Perception\n",
    "#### Di Zhang & Prakriti Pritmani\n",
    "#### Oct 14, 2023"
   ]
  },
  {
   "cell_type": "markdown",
   "metadata": {},
   "source": [
    "## imported packages"
   ]
  },
  {
   "cell_type": "code",
   "execution_count": 2,
   "metadata": {},
   "outputs": [],
   "source": [
    "import numpy as np\n",
    "import cv2\n",
    "import scipy.io\n",
    "import progressbar as pb"
   ]
  },
  {
   "cell_type": "markdown",
   "metadata": {},
   "source": [
    "## Helper Functions"
   ]
  },
  {
   "cell_type": "code",
   "execution_count": 3,
   "metadata": {},
   "outputs": [],
   "source": [
    "#define progress timer class\n",
    "class progress_timer:\n",
    "\n",
    "    def __init__(self, n_iter, description=\"Something\"):\n",
    "        self.n_iter         = n_iter\n",
    "        self.iter           = 0\n",
    "        self.description    = description + ': '\n",
    "        self.timer          = None\n",
    "        self.initialize()\n",
    "\n",
    "    def initialize(self):\n",
    "        #initialize timer\n",
    "        widgets = [self.description, pb.Percentage(), ' ',   \n",
    "                   pb.Bar('=', '[', ']'), ' ', pb.ETA()]\n",
    "        self.timer = pb.ProgressBar(widgets=widgets, maxval=self.n_iter).start()\n",
    "\n",
    "    def update(self, q=1):\n",
    "        #update timer\n",
    "        self.timer.update(self.iter)\n",
    "        self.iter += q\n",
    "\n",
    "    def finish(self):\n",
    "        #end timer\n",
    "        self.timer.finish()\n",
    "        "
   ]
  },
  {
   "cell_type": "markdown",
   "metadata": {},
   "source": [
    "## Data Preprocesssing"
   ]
  },
  {
   "cell_type": "code",
   "execution_count": null,
   "metadata": {},
   "outputs": [],
   "source": [
    "def generate_train_data(train_size, set_name, patch_size):\n",
    "    \n",
    "    #Load ground truth illum value\n",
    "    if (set_name == 'Shi-Gehler'):\n",
    "        mat_name = 'real_illum_568.mat';\n",
    "        key = 'real_rgb';\n",
    "        path = 'C:\\\\Users\\\\phamh\\\\Workspace\\\\Dataset\\\\Shi_Gehler\\\\Train_set\\\\';\n",
    "        \n",
    "    elif (set_name == 'Canon'):\n",
    "        mat_name = 'Canon600D_gt.mat';\n",
    "        key = 'groundtruth_illuminants';\n",
    "        path = 'C:\\\\Users\\\\phamh\\\\Workspace\\\\Dataset\\\\Canon_600D\\\\Train_set\\\\';\n",
    "        \n",
    "    illum_mat = scipy.io.loadmat('GT_Illum_Mat\\\\' + mat_name, squeeze_me = True, struct_as_record = False);\n",
    "    ground_truth_illum = illum_mat[key];\n",
    "    \n",
    "    flist = glob(path + '*.png');\n",
    "    number_of_train_gt = len(flist);\n",
    "    \n",
    "    pt = progress_timer(n_iter = number_of_train_gt, description = 'Generating Training Data :');\n",
    "    \n",
    "    patches_per_image = int(train_size/number_of_train_gt);\n",
    "\n",
    "    X_train_origin, Y_train_origin, name_train = [], [], [];\n",
    "    i = 0;\n",
    "    patch_r, patch_c = patch_size;\n",
    "\n",
    "    while (i < number_of_train_gt):\n",
    "        \n",
    "        image_number = flist[i];\n",
    "        index = (image_number.replace(path ,'')).replace('.png', '');\n",
    "        \n",
    "        image = cv2.imread(image_number);\n",
    "        n_r, n_c, _ = np.shape(image);\n",
    "        total_patch = int(((n_r - n_r%patch_r)/patch_r)*((n_c - n_c%patch_c)/patch_c));\n",
    "        \n",
    "        img_resize = cv2.resize(image, ((n_r - n_r%patch_r), (n_c - n_c%patch_c))); \n",
    "        img_reshape = np.reshape(img_resize, (int(patch_r), -1, 3));\n",
    "        \n",
    "        #Create CLAHE object\n",
    "        clahe = cv2.createCLAHE(clipLimit=2.0, tileGridSize=(8,8));\n",
    "    \n",
    "        for j in range (0, patches_per_image):\n",
    "            \n",
    "            rd = randint(0, total_patch - 1);\n",
    "            img_patch = img_reshape[0:patch_r, rd*patch_c:(rd+1)*patch_c];\n",
    "            \n",
    "            #Convert image to Lab to perform contrast normalizing\n",
    "            lab= cv2.cvtColor(img_patch, cv2.COLOR_BGR2LAB);\n",
    "            \n",
    "            #Contrast normalizing(Stretching)\n",
    "            l, a, b = cv2.split(lab);\n",
    "            cl = clahe.apply(l);\n",
    "            clab = cv2.merge((cl, a, b));\n",
    "            \n",
    "            #Convert back to BGR\n",
    "            img_patch = cv2.cvtColor(clab, cv2.COLOR_LAB2BGR);\n",
    "            \n",
    "            img_patch = cv2.cvtColor(img_patch, cv2.COLOR_BGR2RGB);\n",
    "            \n",
    "            X_train_origin.append(img_patch);\n",
    "            Y_train_origin.append(ground_truth_illum[int(index) - 1]);\n",
    "        \n",
    "        name_train.append('%04d' % (int(index) - 1));\n",
    "             \n",
    "        i += 1;\n",
    "        \n",
    "        pt.update();\n",
    " \n",
    "    X_train_origin = np.asarray(X_train_origin);\n",
    "    Y_train_origin = np.asarray(Y_train_origin);\n",
    "    \n",
    "    X_train_origin = X_train_origin/255;\n",
    "    max_Y = np.amax(Y_train_origin, 1);\n",
    "    Y_train_origin[:, 0] = Y_train_origin[:, 0]/max_Y;\n",
    "    Y_train_origin[:, 1] = Y_train_origin[:, 1]/max_Y;\n",
    "    Y_train_origin[:, 2] = Y_train_origin[:, 2]/max_Y;\n",
    "    \n",
    "    seed = randint(1, 5000);\n",
    "    np.random.seed(seed);\n",
    "    X_train_origin = np.random.permutation(X_train_origin);\n",
    "    \n",
    "    np.random.seed(seed);\n",
    "    Y_train_origin = np.random.permutation(Y_train_origin);\n",
    "    \n",
    "    pt.finish();\n",
    "    \n",
    "    return X_train_origin, Y_train_origin, name_train;"
   ]
  },
  {
   "cell_type": "markdown",
   "metadata": {},
   "source": [
    "## Model"
   ]
  },
  {
   "cell_type": "markdown",
   "metadata": {},
   "source": [
    "## Training"
   ]
  },
  {
   "cell_type": "markdown",
   "metadata": {},
   "source": [
    "## Testing"
   ]
  },
  {
   "cell_type": "markdown",
   "metadata": {},
   "source": [
    "## Result"
   ]
  },
  {
   "cell_type": "markdown",
   "metadata": {},
   "source": []
  }
 ],
 "metadata": {
  "kernelspec": {
   "display_name": "Python 3",
   "language": "python",
   "name": "python3"
  },
  "language_info": {
   "codemirror_mode": {
    "name": "ipython",
    "version": 3
   },
   "file_extension": ".py",
   "mimetype": "text/x-python",
   "name": "python",
   "nbconvert_exporter": "python",
   "pygments_lexer": "ipython3",
   "version": "3.10.12"
  }
 },
 "nbformat": 4,
 "nbformat_minor": 2
}
